{
 "cells": [
  {
   "cell_type": "code",
   "execution_count": 29,
   "metadata": {},
   "outputs": [
    {
     "data": {
      "text/plain": [
       "'ANSWER-three measures of the central tendency is the mean median and the  mode '"
      ]
     },
     "execution_count": 29,
     "metadata": {},
     "output_type": "execute_result"
    }
   ],
   "source": [
    "# Q1. What are the three measures of central tendency?\n",
    "\n",
    "\"\"\"ANSWER-three measures of the central tendency is the mean median and the  mode \"\"\""
   ]
  },
  {
   "cell_type": "code",
   "execution_count": 30,
   "metadata": {},
   "outputs": [
    {
     "data": {
      "text/plain": [
       "'suppose we have a  dataset in which there are no otliers in this case the misssing value can be replaced with \\nmean or median and in the case  of the catagorical data set replace it with the element that has maximum frequency '"
      ]
     },
     "execution_count": 30,
     "metadata": {},
     "output_type": "execute_result"
    }
   ],
   "source": [
    "# Q2. What is the difference between the mean, median, and mode? How are they used to measure the\n",
    "# central tendency of a dataset?\n",
    "\n",
    "\"\"\"ANSWER - mean is used to find the average value , the median is used to find the mid value or the average of \n",
    "mid values and mode is the frequency . the centarl diffrence between the mean and median is the presence of the \n",
    "outliners if there are outliers in the data then the mean value does not truly represent the average value mode \n",
    "in this case represent the mid value \"\"\"\n",
    "\"\"\"suppose we have a  dataset in which there are no otliers in this case the misssing value can be replaced with \n",
    "mean or median and in the case  of the catagorical data set replace it with the element that has maximum frequency \"\"\""
   ]
  },
  {
   "cell_type": "code",
   "execution_count": 31,
   "metadata": {},
   "outputs": [],
   "source": [
    "# Q3. Measure the three measures of central tendency for the given height data:\n",
    "# median mode\n",
    "list_=[178,177,176,177,178.2,178,175,179,180,175,178.9,176.2,177,172.5,178,176.5]\n",
    "import numpy as np \n",
    "y=np.mean(list_)\n",
    "y1=np.median(list_)\n"
   ]
  },
  {
   "cell_type": "code",
   "execution_count": 32,
   "metadata": {},
   "outputs": [
    {
     "data": {
      "text/plain": [
       "(177.01875, 177.0)"
      ]
     },
     "execution_count": 32,
     "metadata": {},
     "output_type": "execute_result"
    }
   ],
   "source": [
    "y,y1"
   ]
  },
  {
   "cell_type": "code",
   "execution_count": 33,
   "metadata": {},
   "outputs": [
    {
     "name": "stderr",
     "output_type": "stream",
     "text": [
      "C:\\Users\\mukka\\AppData\\Local\\Temp\\ipykernel_16284\\1257591988.py:3: FutureWarning: Unlike other reduction functions (e.g. `skew`, `kurtosis`), the default behavior of `mode` typically preserves the axis it acts along. In SciPy 1.11.0, this behavior will change: the default value of `keepdims` will become False, the `axis` over which the statistic is taken will be eliminated, and the value None will no longer be accepted. Set `keepdims` to True or False to avoid this warning.\n",
      "  y2=sns.mode(list_)\n"
     ]
    },
    {
     "data": {
      "text/plain": [
       "177"
      ]
     },
     "execution_count": 33,
     "metadata": {},
     "output_type": "execute_result"
    }
   ],
   "source": [
    "# mode\n",
    "from  scipy import stats as sns\n",
    "y2=sns.mode(list_)\n",
    "y3=int(y2[0])\n",
    "y3"
   ]
  },
  {
   "cell_type": "code",
   "execution_count": 34,
   "metadata": {},
   "outputs": [
    {
     "data": {
      "text/plain": [
       "3"
      ]
     },
     "execution_count": 34,
     "metadata": {},
     "output_type": "execute_result"
    }
   ],
   "source": [
    "# count of frequency\n",
    "y4=int(y2[1])\n",
    "y4\n"
   ]
  },
  {
   "cell_type": "code",
   "execution_count": 35,
   "metadata": {},
   "outputs": [
    {
     "data": {
      "text/plain": [
       "1.7885814036548633"
      ]
     },
     "execution_count": 35,
     "metadata": {},
     "output_type": "execute_result"
    }
   ],
   "source": [
    "# Q4. Find the standard deviation for the given data:\n",
    "# standard deviation \n",
    "list1=[178,177,176,177,178.2,178,175,179,180,175,178.9,176.2,177,172.5,178,176.5]\n",
    "\n",
    "y=np.std(list1)\n",
    "y\n",
    "\n",
    "\n",
    "\n"
   ]
  },
  {
   "cell_type": "code",
   "execution_count": 36,
   "metadata": {},
   "outputs": [
    {
     "name": "stdout",
     "output_type": "stream",
     "text": [
      "range: 66 variance: 318.6 standard deviation : 17.84936973677222\n"
     ]
    }
   ],
   "source": [
    "# Q5. How are measures of dispersion such as range, variance, and standard deviation used to describe\n",
    "# the spread of a dataset? Provide an example.\n",
    "'''Measures of dispersion such as range, variance, and standard deviation  how far the data points are from the central tendency\n",
    " (mean, median or mode)\n",
    "\n",
    "\n",
    " Range is the difference between the highest and lowest values in a dataset. It provides a rough estimate of \n",
    "how spread out the data is.  \n",
    "'''\n",
    "list1=[45,45,67,89,34,45,23,34,42,56,]\n",
    "y=max(list1)-min(list1)\n",
    "y\n",
    "\"\"\"\n",
    " Variance is a measure of how much the data points deviate from the mean. It is calculated by taking the \n",
    "sum of the squared differences between each data point and the mean, and then dividing by the number of data points. \n",
    "A higher variance indicates that the data points are more spread out from the mean. \"\"\"\n",
    "\n",
    "import numpy as np \n",
    "list1=[45,45,67,89,34,45,23,34,42,56,]\n",
    "z=np.var(list1)\n",
    "z\n",
    "\"\"\"\n",
    "Standard deviation: Standard deviation is the square root of the variance. It is a measure of the average amount\n",
    "of deviation of the data points from the mean. A higher standard deviation indicates that the data points are \n",
    " more spread out from the mean.\"\"\"\n",
    "\n",
    "\n",
    "import numpy as np \n",
    "list1=[45,45,67,89,34,45,23,34,42,56,]\n",
    "w=np.std(list1)\n",
    "print(\"range:\",y,\"variance:\",z,\"standard deviation :\",w)\n",
    "  \n",
    "\n",
    "\n",
    "\n",
    "\n",
    "\n",
    "\n",
    "\n",
    "\n",
    " "
   ]
  },
  {
   "cell_type": "code",
   "execution_count": 37,
   "metadata": {},
   "outputs": [
    {
     "data": {
      "text/plain": [
       "'A Venn diagram is a graphical representation of data points. It is generally represented as circle and is used for the showing \\nof overlapped or the non overlapping data \\n\\n'"
      ]
     },
     "execution_count": 37,
     "metadata": {},
     "output_type": "execute_result"
    }
   ],
   "source": [
    "# Q6. What is a Venn diagram?\n",
    "\n",
    "'''A Venn diagram is a graphical representation of data points. It is generally represented as circle and is used for the showing \n",
    "of overlapped or the non overlapping data \n",
    "\n",
    "'''"
   ]
  },
  {
   "cell_type": "code",
   "execution_count": 38,
   "metadata": {},
   "outputs": [
    {
     "name": "stdout",
     "output_type": "stream",
     "text": [
      "{0, 2, 3, 4, 5, 6, 7, 8, 10}\n",
      "{2, 6}\n"
     ]
    }
   ],
   "source": [
    "# # Q7. For the two given sets A = (2,3,4,5,6,7) & B = (0,2,6,8,10). Find:\n",
    "# (i) A ⋂ B\n",
    "#  (ii) A ⋃ B\n",
    "\n",
    "A = {2,3,4,5,6,7}\n",
    "B = {0,2,6,8,10}\n",
    "c=A.union(B)\n",
    "print(c)\n",
    "d=A.intersection(B)\n",
    "print(d)\n",
    "\n",
    "\n",
    "\n",
    "\n",
    "\n"
   ]
  },
  {
   "cell_type": "code",
   "execution_count": null,
   "metadata": {},
   "outputs": [],
   "source": [
    "# Q8. What do you understand about skewness in data?\n",
    "\n",
    "\"\"\"skweness of data means finding whether the data is alignes right or left \n",
    "if the data is right aligned it means the mean is greater than the median than the mode and if the data is left aligned \n",
    "then the data is right aligned that means mean is smaller than the medain and smaller than the mode \"\"\""
   ]
  },
  {
   "cell_type": "code",
   "execution_count": null,
   "metadata": {},
   "outputs": [],
   "source": [
    "# Q9. If a data is right skewed then what will be the position of median with respect to mean?\n",
    "'''if the data is right skewd then the median is greater than mean '''"
   ]
  },
  {
   "cell_type": "code",
   "execution_count": null,
   "metadata": {},
   "outputs": [],
   "source": [
    "# Q10. Explain the difference between covariance and correlation. How are these measures used in\n",
    "# # statistical analysis?\n",
    "\"\"\"answer  -covariance  and the correlation is used for  finding the relation between x and  y  the covariance is calcualted by\n",
    "finding the diffrence between  the mean and the data point and after that squaring it and then summing it but the problem with the \n",
    "covriance is that the limit of the value is not fixed where the limit of the correlation is fixed between the -1 and the plus +1 \n",
    "whree the -1 denotes the strong negative correaltion and the value of the +1 corresponds to strong postive correlation \n",
    "\"\"\"\n"
   ]
  },
  {
   "cell_type": "code",
   "execution_count": 40,
   "metadata": {},
   "outputs": [
    {
     "data": {
      "text/plain": [
       "50.8"
      ]
     },
     "execution_count": 40,
     "metadata": {},
     "output_type": "execute_result"
    }
   ],
   "source": [
    "# Q11. What is the formula for calculating the sample mean? Provide an example calculation for a\n",
    "# # dataset.\n",
    "'''answer  the formuala for the mean is sum of all values and dividing by the number of the samples '''\n",
    "\n",
    "data_set=[45,56,78,34,12,34,56,34,89,70]\n",
    "import numpy as np\n",
    "y=np.mean(data_set)\n",
    "y"
   ]
  },
  {
   "cell_type": "code",
   "execution_count": null,
   "metadata": {},
   "outputs": [],
   "source": [
    "# Q12. For a normal distribution data what is the relationship between its measure of central tendency?\n",
    "\"\"\"answer- for a normal distribution the mean is equal to mode and is equal to median \"\"\""
   ]
  },
  {
   "cell_type": "code",
   "execution_count": null,
   "metadata": {},
   "outputs": [],
   "source": [
    "# Q13. How is covariance different from correlation?\n",
    "\"\"\"answer ---the major diffrence between the covariance and the correlation is that, the covariance  limit is not fixed can \n",
    "take any value and on the other hand the correaltion the value can take -1 to 1 so it can be better predicted whethet the data \n",
    "is negatively correlated or postively correlated . \"\"\""
   ]
  },
  {
   "cell_type": "code",
   "execution_count": 42,
   "metadata": {},
   "outputs": [
    {
     "data": {
      "text/plain": [
       "5.777777777777778"
      ]
     },
     "execution_count": 42,
     "metadata": {},
     "output_type": "execute_result"
    }
   ],
   "source": [
    "# Q14. How do outliers affect measures of central tendency and dispersion? Provide an example.\n",
    "'''answer -- the outliers are the value that move the mean upward or downward due to unusually large value'''\n",
    "\n",
    "list6=[4,6,7,7,8,9,5,4,2,1000]\n",
    "\n",
    "# with 1000\n",
    "# the mena would be\n",
    "\n",
    "import numpy as np\n",
    "y=np.mean(list6)\n",
    "y\n",
    "\n",
    "\n",
    "# without 1000\n",
    "# the mena would be\n",
    "list7=[4,6,7,7,8,9,5,4,2]\n",
    "z=np.mean(list7)\n",
    "z\n",
    "\n",
    "\n"
   ]
  },
  {
   "cell_type": "code",
   "execution_count": 43,
   "metadata": {},
   "outputs": [
    {
     "data": {
      "text/plain": [
       "99.42222222222223"
      ]
     },
     "execution_count": 43,
     "metadata": {},
     "output_type": "execute_result"
    }
   ],
   "source": [
    "y-z\n",
    "\n",
    "'''thus we can see that the values have moved by 99.42222222222223 due to single value of 1000 which is a ourlier '''"
   ]
  },
  {
   "cell_type": "code",
   "execution_count": null,
   "metadata": {},
   "outputs": [],
   "source": []
  }
 ],
 "metadata": {
  "kernelspec": {
   "display_name": "Python 3",
   "language": "python",
   "name": "python3"
  },
  "language_info": {
   "codemirror_mode": {
    "name": "ipython",
    "version": 3
   },
   "file_extension": ".py",
   "mimetype": "text/x-python",
   "name": "python",
   "nbconvert_exporter": "python",
   "pygments_lexer": "ipython3",
   "version": "3.11.2"
  },
  "orig_nbformat": 4
 },
 "nbformat": 4,
 "nbformat_minor": 2
}
